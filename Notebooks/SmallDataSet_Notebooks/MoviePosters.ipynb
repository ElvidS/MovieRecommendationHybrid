{
 "cells": [
  {
   "cell_type": "markdown",
   "id": "83e4a51a",
   "metadata": {},
   "source": [
    "# Mainly for streamlit app\n",
    "Download and store the movie posters automatically in your local drive"
   ]
  },
  {
   "cell_type": "code",
   "execution_count": 1,
   "id": "c6a025e0",
   "metadata": {},
   "outputs": [
    {
     "data": {
      "text/html": [
       "<div>\n",
       "<style scoped>\n",
       "    .dataframe tbody tr th:only-of-type {\n",
       "        vertical-align: middle;\n",
       "    }\n",
       "\n",
       "    .dataframe tbody tr th {\n",
       "        vertical-align: top;\n",
       "    }\n",
       "\n",
       "    .dataframe thead th {\n",
       "        text-align: right;\n",
       "    }\n",
       "</style>\n",
       "<table border=\"1\" class=\"dataframe\">\n",
       "  <thead>\n",
       "    <tr style=\"text-align: right;\">\n",
       "      <th></th>\n",
       "      <th>movieId</th>\n",
       "      <th>title</th>\n",
       "      <th>year</th>\n",
       "    </tr>\n",
       "  </thead>\n",
       "  <tbody>\n",
       "    <tr>\n",
       "      <th>0</th>\n",
       "      <td>1</td>\n",
       "      <td>Toy Story (1995)</td>\n",
       "      <td>1995</td>\n",
       "    </tr>\n",
       "    <tr>\n",
       "      <th>1</th>\n",
       "      <td>2</td>\n",
       "      <td>Jumanji (1995)</td>\n",
       "      <td>1995</td>\n",
       "    </tr>\n",
       "    <tr>\n",
       "      <th>2</th>\n",
       "      <td>3</td>\n",
       "      <td>Grumpier Old Men (1995)</td>\n",
       "      <td>1995</td>\n",
       "    </tr>\n",
       "    <tr>\n",
       "      <th>3</th>\n",
       "      <td>4</td>\n",
       "      <td>Waiting to Exhale (1995)</td>\n",
       "      <td>1995</td>\n",
       "    </tr>\n",
       "    <tr>\n",
       "      <th>4</th>\n",
       "      <td>5</td>\n",
       "      <td>Father of the Bride Part II (1995)</td>\n",
       "      <td>1995</td>\n",
       "    </tr>\n",
       "  </tbody>\n",
       "</table>\n",
       "</div>"
      ],
      "text/plain": [
       "   movieId                               title  year\n",
       "0        1                    Toy Story (1995)  1995\n",
       "1        2                      Jumanji (1995)  1995\n",
       "2        3             Grumpier Old Men (1995)  1995\n",
       "3        4            Waiting to Exhale (1995)  1995\n",
       "4        5  Father of the Bride Part II (1995)  1995"
      ]
     },
     "execution_count": 1,
     "metadata": {},
     "output_type": "execute_result"
    }
   ],
   "source": [
    "import pandas as pd\n",
    "import numpy as np\n",
    "import seaborn as sns\n",
    "import matplotlib.pylab as plt\n",
    "%matplotlib inline\n",
    "\n",
    "df = pd.read_csv(\"../../Data/ml-latest-small/PreprocessedData_ml_latest_year_small.csv\",index_col=0)\n",
    "movies = df[['movieId','title', 'year']].drop_duplicates().sort_values(by=['movieId']).reset_index(drop=True)\n",
    "#removing the year and paranthese from the tilte column\n",
    "#movies[\"title\"] = movies[\"title\"].str.replace(\"(\\(.*?\\))\", \"\").str.strip()\n",
    "movies.head()"
   ]
  },
  {
   "cell_type": "code",
   "execution_count": 2,
   "id": "546b69ac",
   "metadata": {},
   "outputs": [
    {
     "name": "stdout",
     "output_type": "stream",
     "text": [
      "<class 'pandas.core.frame.DataFrame'>\n",
      "RangeIndex: 9719 entries, 0 to 9718\n",
      "Data columns (total 3 columns):\n",
      " #   Column   Non-Null Count  Dtype \n",
      "---  ------   --------------  ----- \n",
      " 0   movieId  9719 non-null   int64 \n",
      " 1   title    9719 non-null   object\n",
      " 2   year     9719 non-null   int64 \n",
      "dtypes: int64(2), object(1)\n",
      "memory usage: 227.9+ KB\n"
     ]
    }
   ],
   "source": [
    "movies.info()"
   ]
  },
  {
   "cell_type": "code",
   "execution_count": 3,
   "id": "038a5dc5",
   "metadata": {
    "scrolled": true
   },
   "outputs": [
    {
     "data": {
      "text/html": [
       "<div>\n",
       "<style scoped>\n",
       "    .dataframe tbody tr th:only-of-type {\n",
       "        vertical-align: middle;\n",
       "    }\n",
       "\n",
       "    .dataframe tbody tr th {\n",
       "        vertical-align: top;\n",
       "    }\n",
       "\n",
       "    .dataframe thead th {\n",
       "        text-align: right;\n",
       "    }\n",
       "</style>\n",
       "<table border=\"1\" class=\"dataframe\">\n",
       "  <thead>\n",
       "    <tr style=\"text-align: right;\">\n",
       "      <th></th>\n",
       "      <th>movieId</th>\n",
       "      <th>title</th>\n",
       "      <th>year</th>\n",
       "    </tr>\n",
       "  </thead>\n",
       "  <tbody>\n",
       "    <tr>\n",
       "      <th>0</th>\n",
       "      <td>1</td>\n",
       "      <td>Toy Story (1995)</td>\n",
       "      <td>1995</td>\n",
       "    </tr>\n",
       "    <tr>\n",
       "      <th>1</th>\n",
       "      <td>2</td>\n",
       "      <td>Jumanji (1995)</td>\n",
       "      <td>1995</td>\n",
       "    </tr>\n",
       "    <tr>\n",
       "      <th>2</th>\n",
       "      <td>3</td>\n",
       "      <td>Grumpier Old Men (1995)</td>\n",
       "      <td>1995</td>\n",
       "    </tr>\n",
       "    <tr>\n",
       "      <th>3</th>\n",
       "      <td>4</td>\n",
       "      <td>Waiting to Exhale (1995)</td>\n",
       "      <td>1995</td>\n",
       "    </tr>\n",
       "    <tr>\n",
       "      <th>4</th>\n",
       "      <td>5</td>\n",
       "      <td>Father of the Bride Part II (1995)</td>\n",
       "      <td>1995</td>\n",
       "    </tr>\n",
       "  </tbody>\n",
       "</table>\n",
       "</div>"
      ],
      "text/plain": [
       "   movieId                               title  year\n",
       "0        1                    Toy Story (1995)  1995\n",
       "1        2                      Jumanji (1995)  1995\n",
       "2        3             Grumpier Old Men (1995)  1995\n",
       "3        4            Waiting to Exhale (1995)  1995\n",
       "4        5  Father of the Bride Part II (1995)  1995"
      ]
     },
     "execution_count": 3,
     "metadata": {},
     "output_type": "execute_result"
    }
   ],
   "source": [
    "movies.head()"
   ]
  },
  {
   "cell_type": "markdown",
   "id": "21bbe4f0",
   "metadata": {},
   "source": [
    "# movieposters: A simple Python package to get the link a movie's poster given its title.\n",
    "\n",
    "The use is demonstrated below."
   ]
  },
  {
   "cell_type": "code",
   "execution_count": 4,
   "id": "691cfc49",
   "metadata": {},
   "outputs": [],
   "source": [
    "import movieposters as mp\n",
    "link = mp.get_poster(title='Toy Story (1995)')"
   ]
  },
  {
   "cell_type": "code",
   "execution_count": 5,
   "id": "294d4ee9",
   "metadata": {},
   "outputs": [
    {
     "data": {
      "text/plain": [
       "'https://m.media-amazon.com/images/M/MV5BMDU2ZWJlMjktMTRhMy00ZTA5LWEzNDgtYmNmZTEwZTViZWJkXkEyXkFqcGdeQXVyNDQ2OTk4MzI@._V1_QL75_UX380_CR0,2,380,562_.jpg'"
      ]
     },
     "execution_count": 5,
     "metadata": {},
     "output_type": "execute_result"
    }
   ],
   "source": [
    "link"
   ]
  },
  {
   "cell_type": "markdown",
   "id": "b5ab0f3d",
   "metadata": {},
   "source": [
    "> We have got the link for the poster."
   ]
  },
  {
   "cell_type": "code",
   "execution_count": 6,
   "id": "63cb6051",
   "metadata": {},
   "outputs": [],
   "source": [
    "import requests # request img from web\n",
    "import shutil # save img locally\n"
   ]
  },
  {
   "cell_type": "code",
   "execution_count": 7,
   "id": "fb9b5bee",
   "metadata": {},
   "outputs": [],
   "source": [
    "res = requests.get(link, stream = True)\n",
    "# adding stream: True guarantees no interruptions will occur when the method is running."
   ]
  },
  {
   "cell_type": "code",
   "execution_count": 8,
   "id": "c6ef040d",
   "metadata": {},
   "outputs": [],
   "source": [
    "FileName=\"../../MoviePosters/Toy Story (1995).png\""
   ]
  },
  {
   "cell_type": "code",
   "execution_count": 9,
   "id": "9d219391",
   "metadata": {},
   "outputs": [
    {
     "name": "stdout",
     "output_type": "stream",
     "text": [
      "Image sucessfully Downloaded:  ../../MoviePosters/Toy Story (1995).png\n"
     ]
    }
   ],
   "source": [
    "if res.status_code == 200:\n",
    "    with open(FileName,'wb') as f:\n",
    "        shutil.copyfileobj(res.raw, f)\n",
    "    print('Image sucessfully Downloaded: ',FileName)\n",
    "else:\n",
    "    print('Image Couldn\\'t be retrieved')"
   ]
  },
  {
   "cell_type": "markdown",
   "id": "8a772253",
   "metadata": {},
   "source": [
    "# Now we will loop through all unique movies."
   ]
  },
  {
   "cell_type": "code",
   "execution_count": 10,
   "id": "f611695f",
   "metadata": {},
   "outputs": [
    {
     "name": "stdout",
     "output_type": "stream",
     "text": [
      "Sucessfully Downloaded:  5074 posters\n"
     ]
    }
   ],
   "source": [
    "import os \n",
    "\n",
    "i=0\n",
    "existing=0\n",
    "\n",
    "failed_posters=[]\n",
    "for movie in movies.title.unique():\n",
    "    \n",
    "    movieId=movies[movies.title==movie]['movieId'].unique()[0]\n",
    "    movie_file=\"../../MoviePosters/\"+str(movieId)+\".png\"\n",
    "    \n",
    "    #Since the loop is a big loop, only download posters not existing in the folder already\n",
    "    if os.path.isfile(movie_file):\n",
    "        existing += 1\n",
    "        continue\n",
    "    else:\n",
    "        #Only download if the poster information exists\n",
    "        try:\n",
    "            movie_link = mp.get_poster(title=movie)\n",
    "        except:\n",
    "            failed_posters.append(movie)\n",
    "            continue\n",
    "        \n",
    "        movie_res = requests.get(movie_link, stream = True)\n",
    "    \n",
    "        if res.status_code >= 200 or res.status_code<=229:\n",
    "            with open(movie_file,'wb') as f:\n",
    "                shutil.copyfileobj(movie_res.raw, f)\n",
    "                i+=1\n",
    "            #print('Image sucessfully Downloaded: ',movie_file)\n",
    "        else:\n",
    "            print('Image Couldn\\'t be retrieved')\n",
    "                \n",
    "print('Sucessfully Downloaded: ',i,'posters')"
   ]
  },
  {
   "cell_type": "code",
   "execution_count": 11,
   "id": "fcf600d0",
   "metadata": {},
   "outputs": [
    {
     "name": "stdout",
     "output_type": "stream",
     "text": [
      "Posters for 372 Movies not found.\n"
     ]
    }
   ],
   "source": [
    "default_pic=\"../../MoviePosters/Default.png\"\n",
    "\n",
    "print(\"Posters for\",len(failed_posters),\"Movies not found.\")\n",
    "\n",
    "for nopic_movie in failed_posters:\n",
    "    movieId=movies[movies.title==nopic_movie]['movieId'].unique()[0]\n",
    "    movie_file=\"../../MoviePosters/\"+str(movieId)+\".png\"\n",
    "    shutil.copyfile(default_pic, movie_file)"
   ]
  },
  {
   "cell_type": "code",
   "execution_count": null,
   "id": "a0f86ba3",
   "metadata": {},
   "outputs": [],
   "source": []
  },
  {
   "cell_type": "code",
   "execution_count": null,
   "id": "d36a6d39",
   "metadata": {},
   "outputs": [],
   "source": []
  }
 ],
 "metadata": {
  "kernelspec": {
   "display_name": "Python 3 (ipykernel)",
   "language": "python",
   "name": "python3"
  },
  "language_info": {
   "codemirror_mode": {
    "name": "ipython",
    "version": 3
   },
   "file_extension": ".py",
   "mimetype": "text/x-python",
   "name": "python",
   "nbconvert_exporter": "python",
   "pygments_lexer": "ipython3",
   "version": "3.9.13"
  }
 },
 "nbformat": 4,
 "nbformat_minor": 5
}
