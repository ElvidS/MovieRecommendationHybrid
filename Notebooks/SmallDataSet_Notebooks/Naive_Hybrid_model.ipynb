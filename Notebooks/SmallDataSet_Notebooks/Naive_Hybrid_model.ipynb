{
 "cells": [
  {
   "cell_type": "code",
   "execution_count": 1,
   "id": "46068523",
   "metadata": {},
   "outputs": [],
   "source": [
    "#!pip install scikit-surprise\n",
    "%run -i utilities.py\n",
    "%run -i CFKnnMeansModel_Class.py"
   ]
  },
  {
   "cell_type": "markdown",
   "id": "6357f98d",
   "metadata": {},
   "source": [
    "# Model 1: Collab Filtering: KNN with means"
   ]
  },
  {
   "cell_type": "markdown",
   "id": "7490e223",
   "metadata": {},
   "source": [
    "## Read the model from saved file"
   ]
  },
  {
   "cell_type": "code",
   "execution_count": 2,
   "id": "df7a4899",
   "metadata": {},
   "outputs": [],
   "source": [
    "import pickle\n",
    "knn_filename = 'Model_KNN_Means.sav'\n",
    "knn_model_full = pickle.load(open(knn_filename, 'rb'))\n",
    "knn_model=knn_model_full.model"
   ]
  },
  {
   "cell_type": "markdown",
   "id": "62cc0cf8",
   "metadata": {},
   "source": [
    "# Model 2: Content Based, Cosine Similarity"
   ]
  },
  {
   "cell_type": "markdown",
   "id": "4ce77ae9",
   "metadata": {},
   "source": [
    "## Directly read Femke's notebook\n",
    "\n",
    "> Important to identify the following:\n",
    "> cosine_sim and cosine_sim_df"
   ]
  },
  {
   "cell_type": "code",
   "execution_count": 3,
   "id": "3e97b4ff",
   "metadata": {},
   "outputs": [
    {
     "name": "stdout",
     "output_type": "stream",
     "text": [
      "Shape: (9719, 9719)\n"
     ]
    }
   ],
   "source": [
    "%run 2_ContentBasedFiltering.ipynb "
   ]
  },
  {
   "cell_type": "markdown",
   "id": "5ed7b0bb",
   "metadata": {},
   "source": [
    "# Hybrid Model\n",
    "Hybrid Recommender leverages the best of both Content based and collaborative filtering techniques."
   ]
  },
  {
   "cell_type": "code",
   "execution_count": 4,
   "id": "dd87fccc",
   "metadata": {},
   "outputs": [],
   "source": [
    "# Hybrid model\n",
    "class HybridModel:\n",
    "    def __init__(self, cosine_sim, cf_model):\n",
    "        self.cosine_sim = cosine_sim\n",
    "        self.cf_model = cf_model\n",
    "        \n",
    "    def recommend_movies(self, user_title_year, movies_df):\n",
    "        \n",
    "        # Use the Process_Avg_Rating function to manipulate the main df and find the \n",
    "        # avg rating\n",
    "        \n",
    "        movies_df_summary=Process_Avg_Rating(movies_df)\n",
    "        \n",
    "        #--------------------------------------\n",
    "        # Content Based\n",
    "        #--------------------------------------\n",
    "        \n",
    "        # Find the top 100 similar movies based on the content-based model\n",
    "        similar_movies_cos_sim=genre_recommendation(user_title_year)\n",
    "        \n",
    "          \n",
    "        #Merge\n",
    "        similar_movies_cos_sim_df=pd.merge(similar_movies_cos_sim,movies_df_summary,how='left', left_on=['title','genres'], right_on = ['title','genres'])\n",
    "        \n",
    "        #--------------------------------------\n",
    "        # Col. filter Based\n",
    "        #--------------------------------------\n",
    "        \n",
    "        # Find the top 100 similar movies based on the Coll filter model\n",
    "        similar_movies_knn=self.cf_model.recommend_similar_items_knnmeans(user_input,movies_df,100)\n",
    "        \n",
    "        #Take the common 10 movies\n",
    "       \n",
    "        similar_movies_common=pd.merge(similar_movies_knn,similar_movies_cos_sim_df, how='inner', on=['title','average rating','number of ratings'])\n",
    "        similar_movies_common=similar_movies_common.sort_values(['average rating'], ascending=[False]).head(10)\n",
    "\n",
    "        #What if most common movies are <10?\n",
    "        \n",
    "        return similar_movies_cos_sim_df, similar_movies_knn,similar_movies_common"
   ]
  },
  {
   "cell_type": "markdown",
   "id": "f7bd46b5",
   "metadata": {},
   "source": [
    "## Read the df, and Ask for input"
   ]
  },
  {
   "cell_type": "code",
   "execution_count": 5,
   "id": "e23cd244",
   "metadata": {},
   "outputs": [
    {
     "data": {
      "text/html": [
       "<div>\n",
       "<style scoped>\n",
       "    .dataframe tbody tr th:only-of-type {\n",
       "        vertical-align: middle;\n",
       "    }\n",
       "\n",
       "    .dataframe tbody tr th {\n",
       "        vertical-align: top;\n",
       "    }\n",
       "\n",
       "    .dataframe thead th {\n",
       "        text-align: right;\n",
       "    }\n",
       "</style>\n",
       "<table border=\"1\" class=\"dataframe\">\n",
       "  <thead>\n",
       "    <tr style=\"text-align: right;\">\n",
       "      <th></th>\n",
       "      <th>userId</th>\n",
       "      <th>movieId</th>\n",
       "      <th>rating</th>\n",
       "      <th>title</th>\n",
       "      <th>genres</th>\n",
       "      <th>year</th>\n",
       "    </tr>\n",
       "  </thead>\n",
       "  <tbody>\n",
       "    <tr>\n",
       "      <th>0</th>\n",
       "      <td>1</td>\n",
       "      <td>1</td>\n",
       "      <td>4.0</td>\n",
       "      <td>Toy Story (1995)</td>\n",
       "      <td>Adventure|Animation|Children|Comedy|Fantasy</td>\n",
       "      <td>1995</td>\n",
       "    </tr>\n",
       "    <tr>\n",
       "      <th>1</th>\n",
       "      <td>5</td>\n",
       "      <td>1</td>\n",
       "      <td>4.0</td>\n",
       "      <td>Toy Story (1995)</td>\n",
       "      <td>Adventure|Animation|Children|Comedy|Fantasy</td>\n",
       "      <td>1995</td>\n",
       "    </tr>\n",
       "    <tr>\n",
       "      <th>2</th>\n",
       "      <td>7</td>\n",
       "      <td>1</td>\n",
       "      <td>4.5</td>\n",
       "      <td>Toy Story (1995)</td>\n",
       "      <td>Adventure|Animation|Children|Comedy|Fantasy</td>\n",
       "      <td>1995</td>\n",
       "    </tr>\n",
       "    <tr>\n",
       "      <th>3</th>\n",
       "      <td>15</td>\n",
       "      <td>1</td>\n",
       "      <td>2.5</td>\n",
       "      <td>Toy Story (1995)</td>\n",
       "      <td>Adventure|Animation|Children|Comedy|Fantasy</td>\n",
       "      <td>1995</td>\n",
       "    </tr>\n",
       "    <tr>\n",
       "      <th>4</th>\n",
       "      <td>17</td>\n",
       "      <td>1</td>\n",
       "      <td>4.5</td>\n",
       "      <td>Toy Story (1995)</td>\n",
       "      <td>Adventure|Animation|Children|Comedy|Fantasy</td>\n",
       "      <td>1995</td>\n",
       "    </tr>\n",
       "  </tbody>\n",
       "</table>\n",
       "</div>"
      ],
      "text/plain": [
       "   userId  movieId  rating             title  \\\n",
       "0       1        1     4.0  Toy Story (1995)   \n",
       "1       5        1     4.0  Toy Story (1995)   \n",
       "2       7        1     4.5  Toy Story (1995)   \n",
       "3      15        1     2.5  Toy Story (1995)   \n",
       "4      17        1     4.5  Toy Story (1995)   \n",
       "\n",
       "                                        genres  year  \n",
       "0  Adventure|Animation|Children|Comedy|Fantasy  1995  \n",
       "1  Adventure|Animation|Children|Comedy|Fantasy  1995  \n",
       "2  Adventure|Animation|Children|Comedy|Fantasy  1995  \n",
       "3  Adventure|Animation|Children|Comedy|Fantasy  1995  \n",
       "4  Adventure|Animation|Children|Comedy|Fantasy  1995  "
      ]
     },
     "execution_count": 5,
     "metadata": {},
     "output_type": "execute_result"
    }
   ],
   "source": [
    "import numpy as np\n",
    "import pandas as pd\n",
    "%matplotlib inline\n",
    "import matplotlib.pyplot as plt\n",
    "df=pd.read_csv(\"../../Data/ml-latest-small/PreprocessedData_ml_latest_year_small.csv\")\n",
    "#df[\"title\"] = df[\"title\"].str.lower()\n",
    "df.head()"
   ]
  },
  {
   "cell_type": "code",
   "execution_count": 6,
   "id": "5a0739c6",
   "metadata": {},
   "outputs": [
    {
     "name": "stdout",
     "output_type": "stream",
     "text": [
      "Enter your Favorite Movie: Jumanji\n",
      "\n",
      "We have multiple movies with the same name/Part of it, but with different release years:\n",
      " movieId                                 title  year\n",
      "       2                        Jumanji (1995)  1995\n",
      "  179401 Jumanji: Welcome to the Jungle (2017)  2017\n",
      "Which one do you have in your mind? (Enter the movieId)2\n",
      "Your favourite movie: Jumanji (1995)\n"
     ]
    }
   ],
   "source": [
    "#Ask user for the movie name\n",
    "user_input=AskForUserInput(df)\n",
    "#Or if you want to hardcode it\n",
    "#user_input=\"Toy Story\""
   ]
  },
  {
   "cell_type": "markdown",
   "id": "233ff4db",
   "metadata": {},
   "source": [
    "\n",
    "## Recommend movies\n"
   ]
  },
  {
   "cell_type": "code",
   "execution_count": 7,
   "id": "e7eb9fc3",
   "metadata": {},
   "outputs": [],
   "source": [
    "hybrid_model=HybridModel(cosine_sim, knn_model)"
   ]
  },
  {
   "cell_type": "code",
   "execution_count": 8,
   "id": "fd7b33da",
   "metadata": {
    "scrolled": false
   },
   "outputs": [
    {
     "ename": "AttributeError",
     "evalue": "'KNNWithMeans' object has no attribute 'recommend_similar_items_knnmeans'",
     "output_type": "error",
     "traceback": [
      "\u001b[0;31m---------------------------------------------------------------------------\u001b[0m",
      "\u001b[0;31mAttributeError\u001b[0m                            Traceback (most recent call last)",
      "Cell \u001b[0;32mIn[8], line 1\u001b[0m\n\u001b[0;32m----> 1\u001b[0m r_content,r_cf,r_hybrid\u001b[38;5;241m=\u001b[39m\u001b[43mhybrid_model\u001b[49m\u001b[38;5;241;43m.\u001b[39;49m\u001b[43mrecommend_movies\u001b[49m\u001b[43m(\u001b[49m\u001b[43muser_input\u001b[49m\u001b[43m,\u001b[49m\u001b[43mdf\u001b[49m\u001b[43m)\u001b[49m\n\u001b[1;32m      2\u001b[0m \u001b[38;5;28mprint\u001b[39m(\u001b[38;5;124m\"\u001b[39m\u001b[38;5;124mRecommendations, Content based:\u001b[39m\u001b[38;5;124m\"\u001b[39m)\n\u001b[1;32m      3\u001b[0m r_content\u001b[38;5;241m.\u001b[39mhead(\u001b[38;5;241m10\u001b[39m)\n",
      "Cell \u001b[0;32mIn[4], line 30\u001b[0m, in \u001b[0;36mHybridModel.recommend_movies\u001b[0;34m(self, user_title_year, movies_df)\u001b[0m\n\u001b[1;32m     23\u001b[0m similar_movies_cos_sim_df\u001b[38;5;241m=\u001b[39mpd\u001b[38;5;241m.\u001b[39mmerge(similar_movies_cos_sim,movies_df_summary,how\u001b[38;5;241m=\u001b[39m\u001b[38;5;124m'\u001b[39m\u001b[38;5;124mleft\u001b[39m\u001b[38;5;124m'\u001b[39m, left_on\u001b[38;5;241m=\u001b[39m[\u001b[38;5;124m'\u001b[39m\u001b[38;5;124mtitle\u001b[39m\u001b[38;5;124m'\u001b[39m,\u001b[38;5;124m'\u001b[39m\u001b[38;5;124mgenres\u001b[39m\u001b[38;5;124m'\u001b[39m], right_on \u001b[38;5;241m=\u001b[39m [\u001b[38;5;124m'\u001b[39m\u001b[38;5;124mtitle\u001b[39m\u001b[38;5;124m'\u001b[39m,\u001b[38;5;124m'\u001b[39m\u001b[38;5;124mgenres\u001b[39m\u001b[38;5;124m'\u001b[39m])\n\u001b[1;32m     25\u001b[0m \u001b[38;5;66;03m#--------------------------------------\u001b[39;00m\n\u001b[1;32m     26\u001b[0m \u001b[38;5;66;03m# Col. filter Based\u001b[39;00m\n\u001b[1;32m     27\u001b[0m \u001b[38;5;66;03m#--------------------------------------\u001b[39;00m\n\u001b[1;32m     28\u001b[0m \n\u001b[1;32m     29\u001b[0m \u001b[38;5;66;03m# Find the top 100 similar movies based on the Coll filter model\u001b[39;00m\n\u001b[0;32m---> 30\u001b[0m similar_movies_knn\u001b[38;5;241m=\u001b[39m\u001b[38;5;28;43mself\u001b[39;49m\u001b[38;5;241;43m.\u001b[39;49m\u001b[43mcf_model\u001b[49m\u001b[38;5;241;43m.\u001b[39;49m\u001b[43mrecommend_similar_items_knnmeans\u001b[49m(user_input,movies_df,\u001b[38;5;241m100\u001b[39m)\n\u001b[1;32m     32\u001b[0m \u001b[38;5;66;03m#Take the common 10 movies\u001b[39;00m\n\u001b[1;32m     34\u001b[0m similar_movies_common\u001b[38;5;241m=\u001b[39mpd\u001b[38;5;241m.\u001b[39mmerge(similar_movies_knn,similar_movies_cos_sim_df, how\u001b[38;5;241m=\u001b[39m\u001b[38;5;124m'\u001b[39m\u001b[38;5;124minner\u001b[39m\u001b[38;5;124m'\u001b[39m, on\u001b[38;5;241m=\u001b[39m[\u001b[38;5;124m'\u001b[39m\u001b[38;5;124mtitle\u001b[39m\u001b[38;5;124m'\u001b[39m,\u001b[38;5;124m'\u001b[39m\u001b[38;5;124maverage rating\u001b[39m\u001b[38;5;124m'\u001b[39m,\u001b[38;5;124m'\u001b[39m\u001b[38;5;124mnumber of ratings\u001b[39m\u001b[38;5;124m'\u001b[39m])\n",
      "\u001b[0;31mAttributeError\u001b[0m: 'KNNWithMeans' object has no attribute 'recommend_similar_items_knnmeans'"
     ]
    }
   ],
   "source": [
    "r_content,r_cf,r_hybrid=hybrid_model.recommend_movies(user_input,df)\n",
    "print(\"Recommendations, Content based:\")\n",
    "r_content.head(10)"
   ]
  },
  {
   "cell_type": "code",
   "execution_count": null,
   "id": "f85edc07",
   "metadata": {},
   "outputs": [],
   "source": [
    "print(\"Recommendations based on CF:\")\n",
    "r_cf.head(10)"
   ]
  },
  {
   "cell_type": "code",
   "execution_count": null,
   "id": "89faddc8",
   "metadata": {},
   "outputs": [],
   "source": [
    "print(\"Recommendations, naive hybrid:\")\n",
    "\n",
    "r_hybrid.head(10)"
   ]
  },
  {
   "cell_type": "markdown",
   "id": "d62e1e5f",
   "metadata": {},
   "source": [
    "# Save your model"
   ]
  },
  {
   "cell_type": "code",
   "execution_count": null,
   "id": "edc347b1",
   "metadata": {},
   "outputs": [],
   "source": [
    "import pickle\n",
    "filename = 'Model_hybrid.sav'\n",
    "pickle.dump(hybrid_model, open(filename, 'wb'))"
   ]
  },
  {
   "cell_type": "code",
   "execution_count": null,
   "id": "04784b43",
   "metadata": {},
   "outputs": [],
   "source": []
  },
  {
   "cell_type": "code",
   "execution_count": null,
   "id": "c1a81846",
   "metadata": {},
   "outputs": [],
   "source": []
  }
 ],
 "metadata": {
  "kernelspec": {
   "display_name": "Python 3 (ipykernel)",
   "language": "python",
   "name": "python3"
  },
  "language_info": {
   "codemirror_mode": {
    "name": "ipython",
    "version": 3
   },
   "file_extension": ".py",
   "mimetype": "text/x-python",
   "name": "python",
   "nbconvert_exporter": "python",
   "pygments_lexer": "ipython3",
   "version": "3.9.13"
  }
 },
 "nbformat": 4,
 "nbformat_minor": 5
}
